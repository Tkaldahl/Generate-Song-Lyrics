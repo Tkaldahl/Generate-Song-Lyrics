{
 "cells": [
  {
   "cell_type": "code",
   "execution_count": 4,
   "metadata": {
    "scrolled": true
   },
   "outputs": [
    {
     "ename": "IndexError",
     "evalue": "list index out of range",
     "output_type": "error",
     "traceback": [
      "\u001b[1;31m---------------------------------------------------------------------------\u001b[0m",
      "\u001b[1;31mIndexError\u001b[0m                                Traceback (most recent call last)",
      "\u001b[1;32m<ipython-input-4-8733685eb746>\u001b[0m in \u001b[0;36m<module>\u001b[1;34m\u001b[0m\n\u001b[0;32m     32\u001b[0m     \u001b[1;32mreturn\u001b[0m \u001b[0msong_lyrics\u001b[0m\u001b[1;33m\u001b[0m\u001b[1;33m\u001b[0m\u001b[0m\n\u001b[0;32m     33\u001b[0m \u001b[1;33m\u001b[0m\u001b[0m\n\u001b[1;32m---> 34\u001b[1;33m \u001b[0mprint\u001b[0m\u001b[1;33m(\u001b[0m\u001b[0mlyric_scraper\u001b[0m\u001b[1;33m(\u001b[0m\u001b[1;34m'Drake'\u001b[0m\u001b[1;33m)\u001b[0m\u001b[1;33m[\u001b[0m\u001b[1;36m0\u001b[0m\u001b[1;33m]\u001b[0m\u001b[1;33m)\u001b[0m\u001b[1;33m\u001b[0m\u001b[1;33m\u001b[0m\u001b[0m\n\u001b[0m",
      "\u001b[1;31mIndexError\u001b[0m: list index out of range"
     ]
    }
   ],
   "source": [
    "import requests\n",
    "import re\n",
    "from bs4 import BeautifulSoup\n",
    "\n",
    "def artist_lookup(artist_name):\n",
    "    base_url = 'https://api.genius.com'\n",
    "    #third string is the token for access\n",
    "    headers = {'Authorization': 'Bearer ' + 'YOUR ACCESS TOKEN HERE'}\n",
    "    search_url = base_url + '/search'\n",
    "    data = {'q':artist_name}\n",
    "    response = requests.get(search_url, data=data, headers=headers)\n",
    "    return response.json()\n",
    "\n",
    "\n",
    "def song_urls(artist_name):\n",
    "    response = artist_lookup(artist_name)['response']['hits']\n",
    "    title = []\n",
    "    urls = []\n",
    "    i = 0\n",
    "    for song in response:\n",
    "        urls.append(response[i]['result']['url'])\n",
    "        i = i + 1\n",
    "    return urls\n",
    "\n",
    "def lyric_scraper(artist_name):\n",
    "    song_lyrics = []\n",
    "    urls = song_urls(artist_name)\n",
    "    for url in urls:\n",
    "        page = requests.get(url)\n",
    "        html = BeautifulSoup(page.text, 'html.parser')\n",
    "        lyrics = (html.find('div', class_='lyrics').get_text())\n",
    "    return song_lyrics\n",
    "\n",
    "print(lyric_scraper('Drake')[0])"
   ]
  },
  {
   "cell_type": "code",
   "execution_count": null,
   "metadata": {},
   "outputs": [],
   "source": []
  },
  {
   "cell_type": "code",
   "execution_count": null,
   "metadata": {},
   "outputs": [],
   "source": []
  },
  {
   "cell_type": "code",
   "execution_count": null,
   "metadata": {},
   "outputs": [],
   "source": []
  }
 ],
 "metadata": {
  "kernelspec": {
   "display_name": "Python 3",
   "language": "python",
   "name": "python3"
  },
  "language_info": {
   "codemirror_mode": {
    "name": "ipython",
    "version": 3
   },
   "file_extension": ".py",
   "mimetype": "text/x-python",
   "name": "python",
   "nbconvert_exporter": "python",
   "pygments_lexer": "ipython3",
   "version": "3.7.1"
  }
 },
 "nbformat": 4,
 "nbformat_minor": 2
}
