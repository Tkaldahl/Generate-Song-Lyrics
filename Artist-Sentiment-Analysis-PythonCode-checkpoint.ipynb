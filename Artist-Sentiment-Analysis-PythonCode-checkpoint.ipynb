{
 "cells": [
  {
   "cell_type": "code",
   "execution_count": 4,
   "metadata": {
    "scrolled": true
   },
   "outputs": [],
   "source": [
    "import requests\n",
    "import re\n",
    "from bs4 import BeautifulSoup\n",
    "from textblob import TextBlob \n",
    "\n",
    "\n",
    "\n",
    "def artist_lookup(artist_name):\n",
    "    base_url = 'https://api.genius.com'\n",
    "    #third string is the token for access\n",
    "    headers = {'Authorization': 'Bearer ' + 'BsbjNXVU6TRR5piKRuVpAszwhSIOqmOixtv-1bhpkX_G5zZXpGgIX3pArB8pLZWc'}\n",
    "    search_url = base_url + '/search'\n",
    "    data = {'q':artist_name}\n",
    "    response = requests.get(search_url, data=data, headers=headers)\n",
    "    return response.json()\n",
    "\n",
    "\n",
    "def song_urls(artist_name):\n",
    "    response = artist_lookup(artist_name)['response']['hits']\n",
    "    urls = []\n",
    "    i = 0\n",
    "    for song in response:\n",
    "        pairing = []\n",
    "        pairing.append(response[i]['result']['full_title'])\n",
    "        pairing.append(response[i]['result']['url'])\n",
    "        urls.append(pairing)\n",
    "        i = i + 1\n",
    "    return urls\n",
    "\n",
    "def lyric_scraper(artist_name):\n",
    "    lyrics = []\n",
    "    songs = song_urls(artist_name)\n",
    "    for song in songs:\n",
    "        title = song[0]\n",
    "        url = song[1] \n",
    "        page = requests.get(url)\n",
    "        html = BeautifulSoup(page.text, 'html.parser')\n",
    "        song.append(lyrics_cleaner(html.find('div', class_='lyrics').get_text()))\n",
    "        lyrics.append(song)\n",
    "    return lyrics\n",
    "\n",
    "def lyrics_cleaner(song):\n",
    "    cleaned_song = re.sub(\"[\\(\\[].*?[\\)\\]]\", \"\", song)\n",
    "    return cleaned_song\n",
    "        \n",
    "def artist_sentiment(artist_name):\n",
    "    songs = lyric_scraper(artist_name)\n",
    "    sentiments = []\n",
    "    for song in songs:\n",
    "        song_details = []\n",
    "        song_details.append(song[0])\n",
    "        blob = TextBlob(song[2])\n",
    "        song_details.append(blob.sentiment[0])\n",
    "        sentiments.append(song_details)\n",
    "    return sentiments\n"
   ]
  },
  {
   "cell_type": "code",
   "execution_count": null,
   "metadata": {
    "scrolled": true
   },
   "outputs": [],
   "source": []
  },
  {
   "cell_type": "code",
   "execution_count": null,
   "metadata": {},
   "outputs": [],
   "source": []
  },
  {
   "cell_type": "code",
   "execution_count": null,
   "metadata": {},
   "outputs": [],
   "source": []
  }
 ],
 "metadata": {
  "kernelspec": {
   "display_name": "Python 3",
   "language": "python",
   "name": "python3"
  },
  "language_info": {
   "codemirror_mode": {
    "name": "ipython",
    "version": 3
   },
   "file_extension": ".py",
   "mimetype": "text/x-python",
   "name": "python",
   "nbconvert_exporter": "python",
   "pygments_lexer": "ipython3",
   "version": "3.7.1"
  }
 },
 "nbformat": 4,
 "nbformat_minor": 2
}
